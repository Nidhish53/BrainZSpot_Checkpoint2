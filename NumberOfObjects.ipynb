{
 "cells": [
  {
   "cell_type": "code",
   "execution_count": 12,
   "id": "880868ae-95da-4a7c-9e03-226d191fb300",
   "metadata": {},
   "outputs": [],
   "source": [
    "import cv2\n",
    "import numpy as np"
   ]
  },
  {
   "cell_type": "code",
   "execution_count": 39,
   "id": "4ecbe34a-a957-490d-86df-8002bb977319",
   "metadata": {},
   "outputs": [],
   "source": [
    "img = cv2.imread('bc.jpeg')"
   ]
  },
  {
   "cell_type": "code",
   "execution_count": 40,
   "id": "c05f31f2-2052-49ab-9444-d10445ca9fa4",
   "metadata": {},
   "outputs": [],
   "source": [
    "img = cv2.cvtColor(img, cv2.COLOR_BGR2GRAY)"
   ]
  },
  {
   "cell_type": "code",
   "execution_count": 41,
   "id": "fa54e551-442a-4c72-86e5-83f8a6e3cfa7",
   "metadata": {},
   "outputs": [],
   "source": [
    "_, thresh = cv2.threshold(img, 225, 255, cv2.THRESH_BINARY_INV)\n",
    "kernal = np.ones((2, 2), np.uint8)"
   ]
  },
  {
   "cell_type": "code",
   "execution_count": 42,
   "id": "b2b1fda7-51cb-4ba8-a7ee-ae46e5004df0",
   "metadata": {},
   "outputs": [],
   "source": [
    "dilation = cv2.dilate(thresh, kernal, iterations=2)"
   ]
  },
  {
   "cell_type": "code",
   "execution_count": 43,
   "id": "dae61b69-f898-4f97-a0e4-a15a8e3021aa",
   "metadata": {},
   "outputs": [],
   "source": [
    "contours, hierarchy = cv2.findContours(\n",
    "    dilation, cv2.RETR_EXTERNAL, cv2.CHAIN_APPROX_SIMPLE)"
   ]
  },
  {
   "cell_type": "code",
   "execution_count": 44,
   "id": "660c530d-8385-4ba3-85f7-7a841477f798",
   "metadata": {},
   "outputs": [],
   "source": [
    "objects = str(len(contours))"
   ]
  },
  {
   "cell_type": "code",
   "execution_count": 45,
   "id": "2b4a99f8-8a1e-4aa4-ac9f-1f8dbd5dae80",
   "metadata": {},
   "outputs": [
    {
     "data": {
      "text/plain": [
       "array([[0, 0, 0, ..., 0, 0, 0],\n",
       "       [0, 0, 0, ..., 0, 0, 0],\n",
       "       [0, 0, 0, ..., 0, 0, 0],\n",
       "       ...,\n",
       "       [0, 0, 0, ..., 0, 0, 0],\n",
       "       [0, 0, 0, ..., 0, 0, 0],\n",
       "       [0, 0, 0, ..., 0, 0, 0]], dtype=uint8)"
      ]
     },
     "execution_count": 45,
     "metadata": {},
     "output_type": "execute_result"
    }
   ],
   "source": [
    "text = \"Obj:\"+str(objects)\n",
    "cv2.putText(dilation, text, (10, 25),  cv2.FONT_HERSHEY_SIMPLEX,\n",
    "            0.4, (240, 0, 159), 1)"
   ]
  },
  {
   "cell_type": "code",
   "execution_count": 46,
   "id": "ecda3837-1461-48d1-89c5-e6993f64a5d0",
   "metadata": {},
   "outputs": [],
   "source": [
    "cv2.imshow('Original', img)\n",
    "cv2.imshow('Thresh', thresh)\n",
    "cv2.imshow('Dilation', dilation)\n",
    "\n",
    "cv2.waitKey(0)\n",
    "cv2.destroyAllWindows()"
   ]
  },
  {
   "cell_type": "code",
   "execution_count": null,
   "id": "f9897147-3c18-464b-862d-6bbc79e78b53",
   "metadata": {},
   "outputs": [],
   "source": []
  }
 ],
 "metadata": {
  "kernelspec": {
   "display_name": "Python 3 (ipykernel)",
   "language": "python",
   "name": "python3"
  },
  "language_info": {
   "codemirror_mode": {
    "name": "ipython",
    "version": 3
   },
   "file_extension": ".py",
   "mimetype": "text/x-python",
   "name": "python",
   "nbconvert_exporter": "python",
   "pygments_lexer": "ipython3",
   "version": "3.9.13"
  }
 },
 "nbformat": 4,
 "nbformat_minor": 5
}
